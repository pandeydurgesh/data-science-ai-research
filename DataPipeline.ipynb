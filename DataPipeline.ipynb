{
  "nbformat": 4,
  "nbformat_minor": 0,
  "metadata": {
    "colab": {
      "name": "DataPipeline.ipynb",
      "provenance": [],
      "authorship_tag": "ABX9TyPgXaIHn4ZQHd1r1Mwpx2GH",
      "include_colab_link": true
    },
    "kernelspec": {
      "name": "python3",
      "display_name": "Python 3"
    },
    "language_info": {
      "name": "python"
    }
  },
  "cells": [
    {
      "cell_type": "markdown",
      "metadata": {
        "id": "view-in-github",
        "colab_type": "text"
      },
      "source": [
        "<a href=\"https://colab.research.google.com/github/pandeydurgesh/data-science-ai-research/blob/main/DataPipeline.ipynb\" target=\"_parent\"><img src=\"https://colab.research.google.com/assets/colab-badge.svg\" alt=\"Open In Colab\"/></a>"
      ]
    },
    {
      "cell_type": "markdown",
      "metadata": {
        "id": "vB-1_bcACUuN"
      },
      "source": [
        "Import Libs\n"
      ]
    },
    {
      "cell_type": "code",
      "metadata": {
        "id": "oTjLe7kzCdR3"
      },
      "source": [
        "import nltk"
      ],
      "execution_count": null,
      "outputs": []
    }
  ]
}